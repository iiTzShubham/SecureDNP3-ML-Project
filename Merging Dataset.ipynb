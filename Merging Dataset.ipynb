{
 "cells": [
  {
   "cell_type": "code",
   "execution_count": 1,
   "id": "77050dfb-3731-43f1-8681-3809a21bf085",
   "metadata": {},
   "outputs": [],
   "source": [
    "import pandas as pd\n",
    "import glob\n",
    "\n",
    "# Specify the pattern of file names\n",
    "file_pattern = \"*.csv\"\n",
    "\n",
    "# Get a list of all CSV files matching the pattern\n",
    "csv_files = glob.glob(file_pattern)\n",
    "\n",
    "# Create an empty list to hold dataframes\n",
    "dfs = []\n",
    "\n",
    "# Read each CSV file and append it to the dfs list\n",
    "for csv_file in csv_files:\n",
    "    df = pd.read_csv(csv_file, index_col=None, header=0)\n",
    "    dfs.append(df)\n",
    "\n",
    "# Concatenate all dataframes in the dfs list into one dataframe\n",
    "combined_csv = pd.concat(dfs, axis=0, ignore_index=True)\n",
    "\n",
    "# Write the combined dataframe to a new CSV file\n",
    "combined_csv.to_csv(\"combined.csv\", index=False)"
   ]
  },
  {
   "cell_type": "code",
   "execution_count": null,
   "id": "100bb81b-ade4-4e55-b59a-7f40711d53fc",
   "metadata": {},
   "outputs": [],
   "source": []
  }
 ],
 "metadata": {
  "kernelspec": {
   "display_name": "Python 3 (ipykernel)",
   "language": "python",
   "name": "python3"
  },
  "language_info": {
   "codemirror_mode": {
    "name": "ipython",
    "version": 3
   },
   "file_extension": ".py",
   "mimetype": "text/x-python",
   "name": "python",
   "nbconvert_exporter": "python",
   "pygments_lexer": "ipython3",
   "version": "3.11.7"
  }
 },
 "nbformat": 4,
 "nbformat_minor": 5
}
